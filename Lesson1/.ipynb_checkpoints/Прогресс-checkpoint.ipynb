{
 "cells": [
  {
   "cell_type": "markdown",
   "metadata": {},
   "source": [
    "# Прогресс и путевые заметки "
   ]
  },
  {
   "cell_type": "markdown",
   "metadata": {},
   "source": [
    "## 1.09.17\n",
    "### Готово:\n",
    "Просмотрел первый урок, добился работоспособности кода из урока на сервере. Нейросеть на сервере успешно распознает класс картинки (что изображено) из 1000 возможных. В качестве модели используется уже обученная Vgg16.\n",
    "\n",
    "Исправил ошибки, связанные с конфликтами версий библиотек на сервере.\n",
    "### Планы на завтра:\n",
    "Дообучить модель имеющимися в проекте картинками, научить решать задачу кошка/собака.\n",
    "Создать собственную модель для решения той же задачи."
   ]
  },
  {
   "cell_type": "code",
   "execution_count": null,
   "metadata": {
    "collapsed": true
   },
   "outputs": [],
   "source": []
  }
 ],
 "metadata": {
  "anaconda-cloud": {},
  "kernelspec": {
   "display_name": "Python [default]",
   "language": "python",
   "name": "python2"
  },
  "language_info": {
   "codemirror_mode": {
    "name": "ipython",
    "version": 2
   },
   "file_extension": ".py",
   "mimetype": "text/x-python",
   "name": "python",
   "nbconvert_exporter": "python",
   "pygments_lexer": "ipython2",
   "version": "2.7.12"
  }
 },
 "nbformat": 4,
 "nbformat_minor": 1
}
